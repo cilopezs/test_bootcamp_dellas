{
 "cells": [
  {
   "cell_type": "code",
   "execution_count": 1,
   "id": "29be45db-3400-4d0c-9140-497d093017dc",
   "metadata": {},
   "outputs": [],
   "source": [
    "import pandas as pd"
   ]
  },
  {
   "cell_type": "code",
   "execution_count": 3,
   "id": "837e5041-0565-443d-9c80-a7f1b7d047f9",
   "metadata": {},
   "outputs": [],
   "source": [
    "import os"
   ]
  },
  {
   "cell_type": "code",
   "execution_count": 4,
   "id": "9dc6d938-f667-46b4-b9e0-52ec8a2f7197",
   "metadata": {},
   "outputs": [
    {
     "data": {
      "text/html": [
       "<pre style=\"white-space:pre;overflow-x:auto;line-height:normal;font-family:Menlo,'DejaVu Sans Mono',consolas,'Courier New',monospace\"></pre>\n"
      ],
      "text/plain": []
     },
     "metadata": {},
     "output_type": "display_data"
    },
    {
     "data": {
      "text/plain": [
       "\u001b[32m'/Users/camilo_lopez/Projects/test_bootcamp_dellas/dellas/notebooks'\u001b[0m"
      ]
     },
     "execution_count": 4,
     "metadata": {},
     "output_type": "execute_result"
    }
   ],
   "source": [
    "os.getcwd()"
   ]
  },
  {
   "cell_type": "code",
   "execution_count": 10,
   "id": "ce517291-f3ea-4604-96ea-d6e4a49685db",
   "metadata": {},
   "outputs": [],
   "source": [
    "companies_df = pd.read_csv(\"../data/01_raw/companies.csv\")"
   ]
  },
  {
   "cell_type": "code",
   "execution_count": 11,
   "id": "849966e6-e623-4509-aeed-1d9d85f8a9d8",
   "metadata": {},
   "outputs": [
    {
     "data": {
      "text/html": [
       "<pre style=\"white-space:pre;overflow-x:auto;line-height:normal;font-family:Menlo,'DejaVu Sans Mono',consolas,'Courier New',monospace\"></pre>\n"
      ],
      "text/plain": []
     },
     "metadata": {},
     "output_type": "display_data"
    },
    {
     "data": {
      "text/html": [
       "<div>\n",
       "<style scoped>\n",
       "    .dataframe tbody tr th:only-of-type {\n",
       "        vertical-align: middle;\n",
       "    }\n",
       "\n",
       "    .dataframe tbody tr th {\n",
       "        vertical-align: top;\n",
       "    }\n",
       "\n",
       "    .dataframe thead th {\n",
       "        text-align: right;\n",
       "    }\n",
       "</style>\n",
       "<table border=\"1\" class=\"dataframe\">\n",
       "  <thead>\n",
       "    <tr style=\"text-align: right;\">\n",
       "      <th></th>\n",
       "      <th>id</th>\n",
       "      <th>company_rating</th>\n",
       "      <th>company_location</th>\n",
       "      <th>total_fleet_count</th>\n",
       "      <th>iata_approved</th>\n",
       "    </tr>\n",
       "  </thead>\n",
       "  <tbody>\n",
       "    <tr>\n",
       "      <th>0</th>\n",
       "      <td>35029</td>\n",
       "      <td>100%</td>\n",
       "      <td>Niue</td>\n",
       "      <td>4.0</td>\n",
       "      <td>f</td>\n",
       "    </tr>\n",
       "    <tr>\n",
       "      <th>1</th>\n",
       "      <td>30292</td>\n",
       "      <td>67%</td>\n",
       "      <td>Anguilla</td>\n",
       "      <td>6.0</td>\n",
       "      <td>f</td>\n",
       "    </tr>\n",
       "    <tr>\n",
       "      <th>2</th>\n",
       "      <td>19032</td>\n",
       "      <td>67%</td>\n",
       "      <td>Russian Federation</td>\n",
       "      <td>4.0</td>\n",
       "      <td>f</td>\n",
       "    </tr>\n",
       "    <tr>\n",
       "      <th>3</th>\n",
       "      <td>8238</td>\n",
       "      <td>91%</td>\n",
       "      <td>Barbados</td>\n",
       "      <td>15.0</td>\n",
       "      <td>t</td>\n",
       "    </tr>\n",
       "    <tr>\n",
       "      <th>4</th>\n",
       "      <td>30342</td>\n",
       "      <td>NaN</td>\n",
       "      <td>Sao Tome and Principe</td>\n",
       "      <td>2.0</td>\n",
       "      <td>t</td>\n",
       "    </tr>\n",
       "    <tr>\n",
       "      <th>...</th>\n",
       "      <td>...</td>\n",
       "      <td>...</td>\n",
       "      <td>...</td>\n",
       "      <td>...</td>\n",
       "      <td>...</td>\n",
       "    </tr>\n",
       "    <tr>\n",
       "      <th>77091</th>\n",
       "      <td>6654</td>\n",
       "      <td>100%</td>\n",
       "      <td>Tonga</td>\n",
       "      <td>3.0</td>\n",
       "      <td>f</td>\n",
       "    </tr>\n",
       "    <tr>\n",
       "      <th>77092</th>\n",
       "      <td>8000</td>\n",
       "      <td>NaN</td>\n",
       "      <td>Chile</td>\n",
       "      <td>2.0</td>\n",
       "      <td>t</td>\n",
       "    </tr>\n",
       "    <tr>\n",
       "      <th>77093</th>\n",
       "      <td>14296</td>\n",
       "      <td>NaN</td>\n",
       "      <td>Netherlands</td>\n",
       "      <td>4.0</td>\n",
       "      <td>f</td>\n",
       "    </tr>\n",
       "    <tr>\n",
       "      <th>77094</th>\n",
       "      <td>27363</td>\n",
       "      <td>80%</td>\n",
       "      <td>NaN</td>\n",
       "      <td>3.0</td>\n",
       "      <td>t</td>\n",
       "    </tr>\n",
       "    <tr>\n",
       "      <th>77095</th>\n",
       "      <td>12542</td>\n",
       "      <td>98%</td>\n",
       "      <td>Mauritania</td>\n",
       "      <td>19.0</td>\n",
       "      <td>t</td>\n",
       "    </tr>\n",
       "  </tbody>\n",
       "</table>\n",
       "<p>77096 rows × 5 columns</p>\n",
       "</div>"
      ],
      "text/plain": [
       "\n",
       "          id company_rating       company_location  total_fleet_count  \\\n",
       "\u001b[1;36m0\u001b[0m      \u001b[1;36m35029\u001b[0m           \u001b[1;36m100\u001b[0m%                   Niue                \u001b[1;36m4.0\u001b[0m   \n",
       "\u001b[1;36m1\u001b[0m      \u001b[1;36m30292\u001b[0m            \u001b[1;36m67\u001b[0m%               Anguilla                \u001b[1;36m6.0\u001b[0m   \n",
       "\u001b[1;36m2\u001b[0m      \u001b[1;36m19032\u001b[0m            \u001b[1;36m67\u001b[0m%     Russian Federation                \u001b[1;36m4.0\u001b[0m   \n",
       "\u001b[1;36m3\u001b[0m       \u001b[1;36m8238\u001b[0m            \u001b[1;36m91\u001b[0m%               Barbados               \u001b[1;36m15.0\u001b[0m   \n",
       "\u001b[1;36m4\u001b[0m      \u001b[1;36m30342\u001b[0m            NaN  Sao Tome and Principe                \u001b[1;36m2.0\u001b[0m   \n",
       "\u001b[33m...\u001b[0m      \u001b[33m...\u001b[0m            \u001b[33m...\u001b[0m                    \u001b[33m...\u001b[0m                \u001b[33m...\u001b[0m   \n",
       "\u001b[1;36m77091\u001b[0m   \u001b[1;36m6654\u001b[0m           \u001b[1;36m100\u001b[0m%                  Tonga                \u001b[1;36m3.0\u001b[0m   \n",
       "\u001b[1;36m77092\u001b[0m   \u001b[1;36m8000\u001b[0m            NaN                  Chile                \u001b[1;36m2.0\u001b[0m   \n",
       "\u001b[1;36m77093\u001b[0m  \u001b[1;36m14296\u001b[0m            NaN            Netherlands                \u001b[1;36m4.0\u001b[0m   \n",
       "\u001b[1;36m77094\u001b[0m  \u001b[1;36m27363\u001b[0m            \u001b[1;36m80\u001b[0m%                    NaN                \u001b[1;36m3.0\u001b[0m   \n",
       "\u001b[1;36m77095\u001b[0m  \u001b[1;36m12542\u001b[0m            \u001b[1;36m98\u001b[0m%             Mauritania               \u001b[1;36m19.0\u001b[0m   \n",
       "\n",
       "      iata_approved  \n",
       "\u001b[1;36m0\u001b[0m                 f  \n",
       "\u001b[1;36m1\u001b[0m                 f  \n",
       "\u001b[1;36m2\u001b[0m                 f  \n",
       "\u001b[1;36m3\u001b[0m                 t  \n",
       "\u001b[1;36m4\u001b[0m                 t  \n",
       "\u001b[33m...\u001b[0m             \u001b[33m...\u001b[0m  \n",
       "\u001b[1;36m77091\u001b[0m             f  \n",
       "\u001b[1;36m77092\u001b[0m             t  \n",
       "\u001b[1;36m77093\u001b[0m             f  \n",
       "\u001b[1;36m77094\u001b[0m             t  \n",
       "\u001b[1;36m77095\u001b[0m             t  \n",
       "\n",
       "\u001b[1m[\u001b[0m\u001b[1;36m77096\u001b[0m rows x \u001b[1;36m5\u001b[0m columns\u001b[1m]\u001b[0m"
      ]
     },
     "execution_count": 11,
     "metadata": {},
     "output_type": "execute_result"
    }
   ],
   "source": [
    "companies_df"
   ]
  },
  {
   "cell_type": "code",
   "execution_count": 12,
   "id": "672e97c3-edf4-4211-aa85-6b8aa3cb1cd1",
   "metadata": {},
   "outputs": [
    {
     "data": {
      "text/html": [
       "<pre style=\"white-space:pre;overflow-x:auto;line-height:normal;font-family:Menlo,'DejaVu Sans Mono',consolas,'Courier New',monospace\"></pre>\n"
      ],
      "text/plain": []
     },
     "metadata": {},
     "output_type": "display_data"
    },
    {
     "data": {
      "text/plain": [
       "\n",
       "id                     int64\n",
       "company_rating        object\n",
       "company_location      object\n",
       "total_fleet_count    float64\n",
       "iata_approved         object\n",
       "dtype: object"
      ]
     },
     "execution_count": 12,
     "metadata": {},
     "output_type": "execute_result"
    }
   ],
   "source": [
    "companies_df.dtypes"
   ]
  },
  {
   "cell_type": "code",
   "execution_count": 14,
   "id": "a3eebe0f-8568-410a-83a4-ff485cc338da",
   "metadata": {},
   "outputs": [],
   "source": [
    "df_shuttles = pd.read_excel(\"../data/01_raw/shuttles.xlsx\")"
   ]
  },
  {
   "cell_type": "code",
   "execution_count": 16,
   "id": "3c2e5814-e171-48a6-98ab-61947d86ab18",
   "metadata": {},
   "outputs": [
    {
     "data": {
      "text/html": [
       "<pre style=\"white-space:pre;overflow-x:auto;line-height:normal;font-family:Menlo,'DejaVu Sans Mono',consolas,'Courier New',monospace\"></pre>\n"
      ],
      "text/plain": []
     },
     "metadata": {},
     "output_type": "display_data"
    },
    {
     "data": {
      "text/plain": [
       "\n",
       "shuttle_location\n",
       "Malta                        \u001b[1;36m8487\u001b[0m\n",
       "Barbados                     \u001b[1;36m8328\u001b[0m\n",
       "Rwanda                       \u001b[1;36m7513\u001b[0m\n",
       "Bouvet Island \u001b[1m(\u001b[0mBouvetoya\u001b[1m)\u001b[0m    \u001b[1;36m5907\u001b[0m\n",
       "United Kingdom               \u001b[1;36m5551\u001b[0m\n",
       "dtype: int64"
      ]
     },
     "execution_count": 16,
     "metadata": {},
     "output_type": "execute_result"
    }
   ],
   "source": [
    "(\n",
    "    df_shuttles\n",
    "    .groupby(['shuttle_location'])\n",
    "    .size()\n",
    "    .nlargest()\n",
    ")"
   ]
  },
  {
   "cell_type": "code",
   "execution_count": 20,
   "id": "8e17fb68-3f6b-46a4-b71b-6fa8a5ffe31b",
   "metadata": {},
   "outputs": [
    {
     "data": {
      "text/html": [
       "<pre style=\"white-space:pre;overflow-x:auto;line-height:normal;font-family:Menlo,'DejaVu Sans Mono',consolas,'Courier New',monospace\"><span style=\"color: #7fbfbf; text-decoration-color: #7fbfbf\">[11/02/23 22:02:46] </span><span style=\"color: #800000; text-decoration-color: #800000\">WARNING </span> <span style=\"color: #800080; text-decoration-color: #800080\">/var/folders/1q/gzsccm3905b6r1s4c_msfqcm0000gn/T/ipykernel_7876/</span><span style=\"color: #ff00ff; text-decoration-color: #ff00ff\">243737</span> <a href=\"file:///Users/camilo_lopez/opt/anaconda3/lib/python3.9/warnings.py\" target=\"_blank\"><span style=\"color: #7f7f7f; text-decoration-color: #7f7f7f\">warnings.py</span></a><span style=\"color: #7f7f7f; text-decoration-color: #7f7f7f\">:</span><a href=\"file:///Users/camilo_lopez/opt/anaconda3/lib/python3.9/warnings.py#109\" target=\"_blank\"><span style=\"color: #7f7f7f; text-decoration-color: #7f7f7f\">109</span></a>\n",
       "<span style=\"color: #7fbfbf; text-decoration-color: #7fbfbf\">                    </span>         <span style=\"color: #ff00ff; text-decoration-color: #ff00ff\">9234.py</span>:<span style=\"color: #008080; text-decoration-color: #008080; font-weight: bold\">1</span>: FutureWarning: The default value of regex will change from  <span style=\"color: #7f7f7f; text-decoration-color: #7f7f7f\">               </span>\n",
       "<span style=\"color: #7fbfbf; text-decoration-color: #7fbfbf\">                    </span>         <span style=\"color: #00ff00; text-decoration-color: #00ff00; font-style: italic\">True</span> to <span style=\"color: #ff0000; text-decoration-color: #ff0000; font-style: italic\">False</span> in a future version. In addition, single character       <span style=\"color: #7f7f7f; text-decoration-color: #7f7f7f\">               </span>\n",
       "<span style=\"color: #7fbfbf; text-decoration-color: #7fbfbf\">                    </span>         regular expressions will *not* be treated as literal strings when      <span style=\"color: #7f7f7f; text-decoration-color: #7f7f7f\">               </span>\n",
       "<span style=\"color: #7fbfbf; text-decoration-color: #7fbfbf\">                    </span>         <span style=\"color: #808000; text-decoration-color: #808000\">regex</span>=<span style=\"color: #00ff00; text-decoration-color: #00ff00; font-style: italic\">True</span>.                                                            <span style=\"color: #7f7f7f; text-decoration-color: #7f7f7f\">               </span>\n",
       "<span style=\"color: #7fbfbf; text-decoration-color: #7fbfbf\">                    </span>           df_shuttles<span style=\"font-weight: bold\">[</span><span style=\"color: #008000; text-decoration-color: #008000\">'price'</span><span style=\"font-weight: bold\">]</span> = df_shuttles<span style=\"font-weight: bold\">[</span><span style=\"color: #008000; text-decoration-color: #008000\">'price'</span><span style=\"font-weight: bold\">]</span><span style=\"color: #800080; text-decoration-color: #800080; font-weight: bold\">.str.replace</span><span style=\"font-weight: bold\">(</span><span style=\"color: #008000; text-decoration-color: #008000\">'$'</span>,<span style=\"color: #008000; text-decoration-color: #008000\">''</span><span style=\"font-weight: bold\">)</span>      <span style=\"color: #7f7f7f; text-decoration-color: #7f7f7f\">               </span>\n",
       "<span style=\"color: #7fbfbf; text-decoration-color: #7fbfbf\">                    </span>                                                                                <span style=\"color: #7f7f7f; text-decoration-color: #7f7f7f\">               </span>\n",
       "</pre>\n"
      ],
      "text/plain": [
       "\u001b[2;36m[11/02/23 22:02:46]\u001b[0m\u001b[2;36m \u001b[0m\u001b[31mWARNING \u001b[0m \u001b[35m/var/folders/1q/gzsccm3905b6r1s4c_msfqcm0000gn/T/ipykernel_7876/\u001b[0m\u001b[95m243737\u001b[0m \u001b]8;id=733622;file:///Users/camilo_lopez/opt/anaconda3/lib/python3.9/warnings.py\u001b\\\u001b[2mwarnings.py\u001b[0m\u001b]8;;\u001b\\\u001b[2m:\u001b[0m\u001b]8;id=375918;file:///Users/camilo_lopez/opt/anaconda3/lib/python3.9/warnings.py#109\u001b\\\u001b[2m109\u001b[0m\u001b]8;;\u001b\\\n",
       "\u001b[2;36m                    \u001b[0m         \u001b[95m9234.py\u001b[0m:\u001b[1;36m1\u001b[0m: FutureWarning: The default value of regex will change from  \u001b[2m               \u001b[0m\n",
       "\u001b[2;36m                    \u001b[0m         \u001b[3;92mTrue\u001b[0m to \u001b[3;91mFalse\u001b[0m in a future version. In addition, single character       \u001b[2m               \u001b[0m\n",
       "\u001b[2;36m                    \u001b[0m         regular expressions will *not* be treated as literal strings when      \u001b[2m               \u001b[0m\n",
       "\u001b[2;36m                    \u001b[0m         \u001b[33mregex\u001b[0m=\u001b[3;92mTrue\u001b[0m.                                                            \u001b[2m               \u001b[0m\n",
       "\u001b[2;36m                    \u001b[0m           df_shuttles\u001b[1m[\u001b[0m\u001b[32m'price'\u001b[0m\u001b[1m]\u001b[0m = df_shuttles\u001b[1m[\u001b[0m\u001b[32m'price'\u001b[0m\u001b[1m]\u001b[0m\u001b[1;35m.str.replace\u001b[0m\u001b[1m(\u001b[0m\u001b[32m'$'\u001b[0m,\u001b[32m''\u001b[0m\u001b[1m)\u001b[0m      \u001b[2m               \u001b[0m\n",
       "\u001b[2;36m                    \u001b[0m                                                                                \u001b[2m               \u001b[0m\n"
      ]
     },
     "metadata": {},
     "output_type": "display_data"
    }
   ],
   "source": [
    "\n",
    "\n",
    "df_shuttles['price'] = df_shuttles['price'].str.replace('$','')\n",
    "df_shuttles['price'] = df_shuttles['price'].str.replace(',','').astype(\"float64\")"
   ]
  },
  {
   "cell_type": "code",
   "execution_count": 24,
   "id": "67a5a7c7-ae68-4cdf-922a-7d78fbe1a81a",
   "metadata": {},
   "outputs": [
    {
     "data": {
      "text/html": [
       "<pre style=\"white-space:pre;overflow-x:auto;line-height:normal;font-family:Menlo,'DejaVu Sans Mono',consolas,'Courier New',monospace\"></pre>\n"
      ],
      "text/plain": []
     },
     "metadata": {},
     "output_type": "display_data"
    },
    {
     "data": {
      "text/plain": [
       "\u001b[1m<\u001b[0m\u001b[1;95mAxesSubplot:\u001b[0m\u001b[1;33mylabel\u001b[0m\u001b[39m=\u001b[0m\u001b[32m'Frequency'\u001b[0m\u001b[1m>\u001b[0m"
      ]
     },
     "execution_count": 24,
     "metadata": {},
     "output_type": "execute_result"
    },
    {
     "data": {
      "text/html": [
       "<pre style=\"white-space:pre;overflow-x:auto;line-height:normal;font-family:Menlo,'DejaVu Sans Mono',consolas,'Courier New',monospace\"></pre>\n"
      ],
      "text/plain": []
     },
     "metadata": {},
     "output_type": "display_data"
    },
    {
     "data": {
      "image/png": "[encoded data removed]",
      "text/plain": [
       "\u001b[1m<\u001b[0m\u001b[1;95mFigure\u001b[0m\u001b[39m size 64\u001b[0m\u001b[1;36m0x480\u001b[0m\u001b[39m with \u001b[0m\u001b[1;36m1\u001b[0m\u001b[39m Axes\u001b[0m\u001b[1m>\u001b[0m"
      ]
     },
     "metadata": {},
     "output_type": "display_data"
    }
   ],
   "source": [
    "mask = df_shuttles['price'] < 15000\n",
    "df_shuttles[mask]['price'].plot.hist()"
   ]
  },
  {
   "cell_type": "code",
   "execution_count": null,
   "id": "2661abaf-e908-4c5e-ba92-0faa0c3fa5d4",
   "metadata": {},
   "outputs": [],
   "source": []
  }
 ],
 "metadata": {
  "kernelspec": {
   "display_name": "Kedro (dellas)",
   "language": "python",
   "name": "kedro_dellas"
  },
  "language_info": {
   "codemirror_mode": {
    "name": "ipython",
    "version": 3
   },
   "file_extension": ".py",
   "mimetype": "text/x-python",
   "name": "python",
   "nbconvert_exporter": "python",
   "pygments_lexer": "ipython3",
   "version": "3.9.13"
  }
 },
 "nbformat": 4,
 "nbformat_minor": 5
}
